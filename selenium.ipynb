{
 "cells": [
  {
   "cell_type": "code",
   "execution_count": null,
   "metadata": {},
   "outputs": [],
   "source": [
    "import requests\n",
    "\n",
    "resposta_python = requests.get(\"https://pt.wikipedia.org/wiki/Python\")\n",
    "texto_python = resposta_python.text\n",
    "print(texto_python)\n",
    "\n",
    "resposta_react = requests.get(\"https://pt-br.reactjs.org\")\n",
    "texto_react = resposta_react.text\n",
    "print(texto_react)"
   ]
  },
  {
   "cell_type": "code",
   "execution_count": 1,
   "metadata": {},
   "outputs": [
    {
     "name": "stderr",
     "output_type": "stream",
     "text": [
      "C:\\Users\\cecam\\AppData\\Local\\Temp\\ipykernel_25208\\1015976203.py:8: DeprecationWarning: executable_path has been deprecated, please pass in a Service object\n",
      "  driver = webdriver.Chrome(executable_path=r'.\\chromedriver.exe', chrome_options=chrome_options)\n",
      "C:\\Users\\cecam\\AppData\\Local\\Temp\\ipykernel_25208\\1015976203.py:8: DeprecationWarning: use options instead of chrome_options\n",
      "  driver = webdriver.Chrome(executable_path=r'.\\chromedriver.exe', chrome_options=chrome_options)\n"
     ]
    },
    {
     "name": "stdout",
     "output_type": "stream",
     "text": [
      "None\n"
     ]
    },
    {
     "name": "stderr",
     "output_type": "stream",
     "text": [
      "d:\\_streamlit\\teste_streamlit\\env\\lib\\site-packages\\bs4\\__init__.py:404: MarkupResemblesLocatorWarning: The input looks more like a URL than markup. You may want to use an HTTP client like requests to get the document behind the URL, and feed that document to Beautiful Soup.\n",
      "  warnings.warn(\n"
     ]
    }
   ],
   "source": [
    "from bs4 import BeautifulSoup\n",
    "from selenium import webdriver\n",
    "\n",
    "url = 'https://www.premierleague.com/match/46889'\n",
    "\n",
    "chrome_options = webdriver.ChromeOptions()\n",
    "chrome_options.add_argument('--headless')\n",
    "driver = webdriver.Chrome(executable_path=r'.\\chromedriver.exe', chrome_options=chrome_options)\n",
    "driver.get(url)\n",
    "\n",
    "soup = BeautifulSoup(url, 'html.parser')\n",
    "getValueFromDiv = soup.find('div', class_='matchDate renderMatchDateContainer')\n",
    "print(getValueFromDiv)"
   ]
  },
  {
   "cell_type": "code",
   "execution_count": 2,
   "metadata": {},
   "outputs": [
    {
     "name": "stdout",
     "output_type": "stream",
     "text": [
      "Requirement already satisfied: selenium in d:\\_streamlit\\teste_streamlit\\env\\lib\\site-packages (4.8.3)\n",
      "Requirement already satisfied: trio~=0.17 in d:\\_streamlit\\teste_streamlit\\env\\lib\\site-packages (from selenium) (0.22.0)\n",
      "Requirement already satisfied: certifi>=2021.10.8 in d:\\_streamlit\\teste_streamlit\\env\\lib\\site-packages (from selenium) (2022.5.18.1)\n",
      "Requirement already satisfied: trio-websocket~=0.9 in d:\\_streamlit\\teste_streamlit\\env\\lib\\site-packages (from selenium) (0.10.2)\n",
      "Requirement already satisfied: urllib3[socks]~=1.26 in d:\\_streamlit\\teste_streamlit\\env\\lib\\site-packages (from selenium) (1.26.9)\n",
      "Requirement already satisfied: sniffio in d:\\_streamlit\\teste_streamlit\\env\\lib\\site-packages (from trio~=0.17->selenium) (1.3.0)\n",
      "Requirement already satisfied: attrs>=19.2.0 in d:\\_streamlit\\teste_streamlit\\env\\lib\\site-packages (from trio~=0.17->selenium) (21.4.0)\n",
      "Requirement already satisfied: idna in d:\\_streamlit\\teste_streamlit\\env\\lib\\site-packages (from trio~=0.17->selenium) (3.3)\n",
      "Requirement already satisfied: async-generator>=1.9 in d:\\_streamlit\\teste_streamlit\\env\\lib\\site-packages (from trio~=0.17->selenium) (1.10)\n",
      "Requirement already satisfied: sortedcontainers in d:\\_streamlit\\teste_streamlit\\env\\lib\\site-packages (from trio~=0.17->selenium) (2.4.0)\n",
      "Requirement already satisfied: exceptiongroup>=1.0.0rc9 in d:\\_streamlit\\teste_streamlit\\env\\lib\\site-packages (from trio~=0.17->selenium) (1.1.1)\n",
      "Requirement already satisfied: cffi>=1.14 in d:\\_streamlit\\teste_streamlit\\env\\lib\\site-packages (from trio~=0.17->selenium) (1.15.0)\n",
      "Requirement already satisfied: outcome in d:\\_streamlit\\teste_streamlit\\env\\lib\\site-packages (from trio~=0.17->selenium) (1.2.0)\n",
      "Requirement already satisfied: wsproto>=0.14 in d:\\_streamlit\\teste_streamlit\\env\\lib\\site-packages (from trio-websocket~=0.9->selenium) (1.2.0)\n",
      "Requirement already satisfied: PySocks!=1.5.7,<2.0,>=1.5.6 in d:\\_streamlit\\teste_streamlit\\env\\lib\\site-packages (from urllib3[socks]~=1.26->selenium) (1.7.1)\n",
      "Requirement already satisfied: pycparser in d:\\_streamlit\\teste_streamlit\\env\\lib\\site-packages (from cffi>=1.14->trio~=0.17->selenium) (2.21)\n",
      "Requirement already satisfied: h11<1,>=0.9.0 in d:\\_streamlit\\teste_streamlit\\env\\lib\\site-packages (from wsproto>=0.14->trio-websocket~=0.9->selenium) (0.14.0)\n",
      "Note: you may need to restart the kernel to use updated packages.\n"
     ]
    },
    {
     "name": "stderr",
     "output_type": "stream",
     "text": [
      "WARNING: You are using pip version 22.0.4; however, version 23.0.1 is available.\n",
      "You should consider upgrading via the 'd:\\_streamlit\\teste_streamlit\\env\\Scripts\\python.exe -m pip install --upgrade pip' command.\n"
     ]
    }
   ],
   "source": [
    "pip install selenium\n"
   ]
  },
  {
   "cell_type": "code",
   "execution_count": 5,
   "metadata": {},
   "outputs": [],
   "source": [
    "from webdriver_manager.chrome import ChromeDriverManager"
   ]
  },
  {
   "cell_type": "code",
   "execution_count": 4,
   "metadata": {},
   "outputs": [
    {
     "name": "stdout",
     "output_type": "stream",
     "text": [
      "Collecting webdriver_manager\n",
      "  Downloading webdriver_manager-3.8.5-py2.py3-none-any.whl (27 kB)\n",
      "Requirement already satisfied: requests in d:\\_streamlit\\teste_streamlit\\env\\lib\\site-packages (from webdriver_manager) (2.27.1)\n",
      "Requirement already satisfied: packaging in d:\\_streamlit\\teste_streamlit\\env\\lib\\site-packages (from webdriver_manager) (21.3)\n",
      "Requirement already satisfied: python-dotenv in d:\\_streamlit\\teste_streamlit\\env\\lib\\site-packages (from webdriver_manager) (0.20.0)\n",
      "Requirement already satisfied: tqdm in d:\\_streamlit\\teste_streamlit\\env\\lib\\site-packages (from webdriver_manager) (4.64.1)\n",
      "Requirement already satisfied: pyparsing!=3.0.5,>=2.0.2 in d:\\_streamlit\\teste_streamlit\\env\\lib\\site-packages (from packaging->webdriver_manager) (3.0.9)\n",
      "Requirement already satisfied: charset-normalizer~=2.0.0 in d:\\_streamlit\\teste_streamlit\\env\\lib\\site-packages (from requests->webdriver_manager) (2.0.12)\n",
      "Requirement already satisfied: urllib3<1.27,>=1.21.1 in d:\\_streamlit\\teste_streamlit\\env\\lib\\site-packages (from requests->webdriver_manager) (1.26.9)\n",
      "Requirement already satisfied: certifi>=2017.4.17 in d:\\_streamlit\\teste_streamlit\\env\\lib\\site-packages (from requests->webdriver_manager) (2022.5.18.1)\n",
      "Requirement already satisfied: idna<4,>=2.5 in d:\\_streamlit\\teste_streamlit\\env\\lib\\site-packages (from requests->webdriver_manager) (3.3)\n",
      "Requirement already satisfied: colorama in d:\\_streamlit\\teste_streamlit\\env\\lib\\site-packages (from tqdm->webdriver_manager) (0.4.4)\n",
      "Installing collected packages: webdriver_manager\n",
      "Successfully installed webdriver_manager-3.8.5\n",
      "Note: you may need to restart the kernel to use updated packages.\n"
     ]
    },
    {
     "name": "stderr",
     "output_type": "stream",
     "text": [
      "WARNING: You are using pip version 22.0.4; however, version 23.0.1 is available.\n",
      "You should consider upgrading via the 'd:\\_streamlit\\teste_streamlit\\env\\Scripts\\python.exe -m pip install --upgrade pip' command.\n"
     ]
    }
   ],
   "source": [
    "pip install webdriver_manager\n"
   ]
  },
  {
   "cell_type": "code",
   "execution_count": 6,
   "metadata": {},
   "outputs": [],
   "source": [
    "from webdriver_manager.chrome import ChromeDriverManager"
   ]
  },
  {
   "cell_type": "code",
   "execution_count": 7,
   "metadata": {},
   "outputs": [
    {
     "ename": "NameError",
     "evalue": "name 'ChromeService' is not defined",
     "output_type": "error",
     "traceback": [
      "\u001b[1;31m---------------------------------------------------------------------------\u001b[0m",
      "\u001b[1;31mNameError\u001b[0m                                 Traceback (most recent call last)",
      "\u001b[1;32md:\\_streamlit\\wspython\\selenium.ipynb Cell 7\u001b[0m in \u001b[0;36m<cell line: 1>\u001b[1;34m()\u001b[0m\n\u001b[1;32m----> <a href='vscode-notebook-cell:/d%3A/_streamlit/wspython/selenium.ipynb#W4sZmlsZQ%3D%3D?line=0'>1</a>\u001b[0m service \u001b[39m=\u001b[39m ChromeService(executable_path\u001b[39m=\u001b[39mChromeDriverManager()\u001b[39m.\u001b[39minstall())\n\u001b[0;32m      <a href='vscode-notebook-cell:/d%3A/_streamlit/wspython/selenium.ipynb#W4sZmlsZQ%3D%3D?line=2'>3</a>\u001b[0m driver \u001b[39m=\u001b[39m webdriver\u001b[39m.\u001b[39mChrome(service\u001b[39m=\u001b[39mservice)\n",
      "\u001b[1;31mNameError\u001b[0m: name 'ChromeService' is not defined"
     ]
    }
   ],
   "source": [
    "    service = ChromeService(executable_path=ChromeDriverManager().install())\n",
    "\n",
    "    driver = webdriver.Chrome(service=service)"
   ]
  },
  {
   "cell_type": "code",
   "execution_count": 8,
   "metadata": {},
   "outputs": [],
   "source": [
    "from selenium.webdriver.chrome.service import Service as ChromeService"
   ]
  },
  {
   "cell_type": "code",
   "execution_count": 12,
   "metadata": {},
   "outputs": [],
   "source": [
    "service = ChromeService(executable_path=ChromeDriverManager().install())\n",
    "driver = webdriver.Chrome(service=service)"
   ]
  },
  {
   "cell_type": "code",
   "execution_count": 11,
   "metadata": {},
   "outputs": [],
   "source": [
    "from selenium import webdriver"
   ]
  },
  {
   "cell_type": "code",
   "execution_count": null,
   "metadata": {},
   "outputs": [],
   "source": []
  }
 ],
 "metadata": {
  "kernelspec": {
   "display_name": "env",
   "language": "python",
   "name": "python3"
  },
  "language_info": {
   "codemirror_mode": {
    "name": "ipython",
    "version": 3
   },
   "file_extension": ".py",
   "mimetype": "text/x-python",
   "name": "python",
   "nbconvert_exporter": "python",
   "pygments_lexer": "ipython3",
   "version": "3.9.13"
  },
  "orig_nbformat": 4,
  "vscode": {
   "interpreter": {
    "hash": "9ed0d05f6b501f46690c79ccef5c1e1a41f8b50c2843eca4c7ed69ad0a1c80f6"
   }
  }
 },
 "nbformat": 4,
 "nbformat_minor": 2
}
